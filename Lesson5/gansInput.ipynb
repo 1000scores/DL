{
  "nbformat": 4,
  "nbformat_minor": 0,
  "metadata": {
    "accelerator": "GPU",
    "colab": {
      "name": "Копия блокнота \"gans.ipynb\"",
      "provenance": [],
      "collapsed_sections": [],
      "toc_visible": true
    },
    "kernelspec": {
      "display_name": "Python 3",
      "name": "python3"
    }
  },
  "cells": [
    {
      "cell_type": "markdown",
      "metadata": {
        "id": "8coLQ3KOu4cA"
      },
      "source": [
        "# Generative Adversarial Networks\n",
        "\n",
        "Применение adversarial loss (более общей идеи, лежащей в основе GANов) позволило решить задачи, которые казались невозможными:\n",
        "\n",
        "* [Машинный перевод без параллельных данных](https://arxiv.org/pdf/1710.11041.pdf)\n",
        "* [Циклоганы: перевод изображений в другой домен](https://arxiv.org/abs/1703.10593)\n",
        "* Колоризация и [Super Resolution](https://arxiv.org/abs/1807.02758)\n",
        "* [Генерация и морфинг произвольных данных](https://arxiv.org/pdf/1809.11096.pdf) ([тут](https://colab.research.google.com/github/tensorflow/hub/blob/master/examples/colab/biggan_generation_with_tf_hub.ipynb#scrollTo=HuCO9tv3IKT2) можно поиграться с генерацией бургеров)\n",
        "* Применения в борьбе с adversarial атаками\n",
        "\n",
        "Вот постоянно пополняющийся список приложений GANов: https://github.com/nashory/gans-awesome-applications\n",
        "\n",
        "Сама [статья](https://papers.nips.cc/paper/5423-generative-adversarial-nets.pdf) Яна Гудфеллоу про GANы вышла в конце 2014 года и была процитирована 7687 раз за 4 года.\n",
        "\n",
        "\n",
        "<img width='500px' src='https://cdn-images-1.medium.com/max/800/1*eWURQXT41pwHvDg1xDiEmw.png'>"
      ]
    },
    {
      "cell_type": "markdown",
      "metadata": {
        "id": "NZdtbv7Qu4cE"
      },
      "source": [
        "Теперь немного формальных определений:\n",
        "\n",
        "* Пусть $z$ — это вектор из латентного пространства, насэмпленный из нормального распределения.\n",
        "* $G(z)$ обозначает функцию генератора, которая отображает латентный вектор в пространство данных. Цель $G$ — оценить истинное распределение данных $p_d$, чтобы сэмплировать данные из оцененного распределения $p_g$.\n",
        "* $D(G(z))$ это вероятность (число от 0 до 1), что выход генератора $G$ является реальным изображением.\n",
        "\n",
        "$D$ и $G$ играют в минимаксную игру, в которой $D$ старается максимизировать вероятность, что он правильно классифицирует реальные и сгенерированные сэмплы, а $G$ старается минимизировать эту вероятность:\n",
        "\n",
        "$$\\underset{G}{\\text{min}} \\underset{D}{\\text{max}}V(D,G) = \\mathbb{E}_{x\\sim p_{data}(x)}\\big[logD(x)\\big] + \\mathbb{E}_{z\\sim p_{z}(z)}\\big[log(1-D(G(x)))\\big]$$\n",
        "\n",
        "[Выясняется](https://papers.nips.cc/paper/5423-generative-adversarial-nets.pdf), что решение в этой минимаксной игре достигается при $p_g = p_d$ (и дискриминатор в этом случае может угадывать случайно). В реальности модели не всегда могут сойтись к этой точке.\n",
        "\n",
        "[DCGAN](https://arxiv.org/pdf/1511.06434.pdf) (Deep Convolutional GAN) называют GAN, который явно использует свёртки и транспонированные свёртки в дискриминаторе и генераторе соответственно. Откройте статью -- мы будем идти очень близко с авторами."
      ]
    },
    {
      "cell_type": "markdown",
      "metadata": {
        "id": "iYPV9p90wSgG"
      },
      "source": [
        "## Датасет\n",
        "Всем надоели цифры, поэтому обучаться мы будем на датасете CelebA ([Large-scale CelebFaces Attributes](Large-scale CelebFaces Attributes)). В датасете на каждую фотку есть её аттрибуты, но мы их пока использовать не будем.\n",
        "\n",
        "<img width='500px' src='http://mmlab.ie.cuhk.edu.hk/projects/celeba/overview.png'>\n",
        "\n",
        "Автор, когда готовил эту тетрадку, долго думал, как загрузить датасет, чтобы всем было удобно. Это оказалось трудно, потому что прямых ссылок на него нигде нет, и, соответственно, просто сделать `!wget ...` нельзя. По удачному стечению обстоятельств, неделю назад кто-то [добавил](https://github.com/pytorch/vision/blob/master/torchvision/datasets/celeba.py) скрипты для загрузки этого датасета в сам `torchvision`, но в `pip` новая версия за такой срок ещё не успела появиться, поэтому мы обновимся напрямую из репозитория на гитхабе:"
      ]
    },
    {
      "cell_type": "code",
      "metadata": {
        "colab": {
          "base_uri": "https://localhost:8080/"
        },
        "id": "RjCn03H0Rimk",
        "outputId": "5378ef86-5ef0-4f24-9a43-cc99467eab53"
      },
      "source": [
        "# модель будет обучаться долго - рекомендую сохранять промежуточные версии. В колабе это можно делать примерно так\n",
        "from google.colab import drive\n",
        "drive.mount('/content/drive')\n",
        "#теперь для сохранения файлов вам доступна директория /content/drive"
      ],
      "execution_count": null,
      "outputs": [
        {
          "output_type": "stream",
          "text": [
            "Mounted at /content/drive\n"
          ],
          "name": "stdout"
        }
      ]
    },
    {
      "cell_type": "code",
      "metadata": {
        "colab": {
          "base_uri": "https://localhost:8080/"
        },
        "id": "roFGEo3b37Wa",
        "outputId": "44f725b6-4b0f-4573-b86a-109ca684fc4d"
      },
      "source": [
        "from google_drive_downloader import GoogleDriveDownloader as gdd\n",
        "dl = \"18UTENzuzvwViI0c9uELD4eN4Z9W0H83b\"\n",
        "gdd.download_file_from_google_drive(file_id=dl,\n",
        "                                    dest_path='./img_align_celeba.zip',\n",
        "                                    unzip=True)"
      ],
      "execution_count": null,
      "outputs": [
        {
          "output_type": "stream",
          "text": [
            "Downloading 18UTENzuzvwViI0c9uELD4eN4Z9W0H83b into ./img_align_celeba.zip... Done.\n",
            "Unzipping...Done.\n"
          ],
          "name": "stdout"
        }
      ]
    },
    {
      "cell_type": "code",
      "metadata": {
        "id": "jWaw85u8RbKf"
      },
      "source": [
        "!mkdir \"tmp\""
      ],
      "execution_count": null,
      "outputs": []
    },
    {
      "cell_type": "code",
      "metadata": {
        "id": "y0O-FCJTRfTN"
      },
      "source": [
        "!cp -R \"/content/img_align_celeba\" \"/content/tmp/\""
      ],
      "execution_count": null,
      "outputs": []
    },
    {
      "cell_type": "code",
      "metadata": {
        "id": "z7AF9qQ04b2k"
      },
      "source": [
        "import torch\n",
        "import numpy as np\n",
        "import torch.nn as nn\n",
        "from torchvision import transforms, datasets"
      ],
      "execution_count": null,
      "outputs": []
    },
    {
      "cell_type": "code",
      "metadata": {
        "id": "raBYoUEjeXRm"
      },
      "source": [
        "device = torch.device('cuda:0')  # не забудьте включить GPU\n",
        "\n",
        "image_size = 64\n",
        "batch_size = 64\n"
      ],
      "execution_count": null,
      "outputs": []
    },
    {
      "cell_type": "code",
      "metadata": {
        "id": "__rYnOod4ded"
      },
      "source": [
        "transform=transforms.Compose([\n",
        "    transforms.Resize(image_size),\n",
        "    transforms.CenterCrop(image_size),\n",
        "    transforms.ToTensor(),\n",
        "    transforms.Normalize((0.5, 0.5, 0.5), (0.5, 0.5, 0.5)),\n",
        "    # Normalize здесь приводит значения в промежуток [-1, 1]\n",
        "])\n",
        " \n",
        "dataset = datasets.ImageFolder(root='/content/tmp/',\n",
        "                           transform=transform)\n",
        "loader = torch.utils.data.DataLoader(dataset, batch_size=batch_size, shuffle=True)"
      ],
      "execution_count": null,
      "outputs": []
    },
    {
      "cell_type": "code",
      "metadata": {
        "colab": {
          "base_uri": "https://localhost:8080/"
        },
        "id": "VkCLmMOAbKNM",
        "outputId": "89046b9c-973c-474d-8df5-e53a2aff4891"
      },
      "source": [
        "dataset[0][0].shape"
      ],
      "execution_count": null,
      "outputs": [
        {
          "output_type": "execute_result",
          "data": {
            "text/plain": [
              "torch.Size([3, 64, 64])"
            ]
          },
          "metadata": {
            "tags": []
          },
          "execution_count": 16
        }
      ]
    },
    {
      "cell_type": "code",
      "metadata": {
        "colab": {
          "base_uri": "https://localhost:8080/",
          "height": 302
        },
        "id": "BE8y2oIB_2N3",
        "outputId": "6f3e5b82-03c4-46b2-86c5-7bfff0255ca6"
      },
      "source": [
        "from matplotlib import pyplot as plt\n",
        "plt.imshow(dataset[5][0].cpu().detach().numpy().reshape((64,64,3)))"
      ],
      "execution_count": null,
      "outputs": [
        {
          "output_type": "stream",
          "text": [
            "Clipping input data to the valid range for imshow with RGB data ([0..1] for floats or [0..255] for integers).\n"
          ],
          "name": "stderr"
        },
        {
          "output_type": "execute_result",
          "data": {
            "text/plain": [
              "<matplotlib.image.AxesImage at 0x7f15f3aa96d0>"
            ]
          },
          "metadata": {
            "tags": []
          },
          "execution_count": 13
        },
        {
          "output_type": "display_data",
          "data": {
            "image/png": "[encoded data removed]",
            "text/plain": [
              "<Figure size 432x288 with 1 Axes>"
            ]
          },
          "metadata": {
            "tags": [],
            "needs_background": "light"
          }
        }
      ]
    },
    {
      "cell_type": "markdown",
      "metadata": {
        "id": "hv2Jga9EPaeT"
      },
      "source": [
        "## Модель\n",
        "\n",
        "Генератор $G$ преобразует латентный вектор $z$ в пространство данных (в нашем случае -- картинки 3x64x64). В статье используют последовательность блоков из транспонированных свёрток, BatchNorm-ов и ReLU. На выходе каждое значение лежит в [-1, 1] (мы делаем TanH), в соответствии с нормализацией, которую мы сделали раньше.\n",
        "\n",
        "<img width='600px' src='https://pytorch.org/tutorials/_images/dcgan_generator.png'>"
      ]
    },
    {
      "cell_type": "code",
      "metadata": {
        "colab": {
          "background_save": true
        },
        "id": "xUkaAeWKAYpX"
      },
      "source": [
        "device = torch.device('cuda:0')\n",
        "torch.cuda.empty_cache()"
      ],
      "execution_count": null,
      "outputs": []
    },
    {
      "cell_type": "code",
      "metadata": {
        "colab": {
          "background_save": true
        },
        "id": "3CuKv_Zi54ra"
      },
      "source": [
        "num_channels = 3\n",
        "latent_size = 100\n",
        "base_size = 32\n",
        "\n",
        "G = nn.Sequential(\n",
        "    # input is Z, going into a convolution\n",
        "    nn.ConvTranspose2d(latent_size, base_size * 8, 4, 1, 0, bias=False),\n",
        "    nn.BatchNorm2d(base_size * 8),\n",
        "    nn.LeakyReLU(0.2,inplace=True),\n",
        "    \n",
        "    # (base_size*8) x 4 x 4\n",
        "    nn.ConvTranspose2d(base_size * 8, base_size * 4, 4, 2, 1, bias=False),\n",
        "    nn.BatchNorm2d(base_size * 4),\n",
        "    nn.LeakyReLU(0.2,inplace=True),\n",
        "    \n",
        "    # (base_size*4) x 8 x 8\n",
        "    nn.ConvTranspose2d(base_size * 4, base_size * 2, 4, 2, 1, bias=False),\n",
        "    nn.BatchNorm2d(base_size * 2),\n",
        "    nn.LeakyReLU(0.2,inplace=True),\n",
        "    \n",
        "    # (base_size*2) x 16 x 16\n",
        "    nn.ConvTranspose2d(base_size * 2, base_size, 4, 2, 1, bias=False),\n",
        "    nn.BatchNorm2d(base_size),\n",
        "    nn.LeakyReLU(0.2,inplace=True),\n",
        "    \n",
        "    # (base_size) x 32 x 32\n",
        "    nn.ConvTranspose2d(base_size, num_channels, 4, 2, 1, bias=False),\n",
        "    nn.Tanh()\n",
        "    # (num_channels) x 64 x 64\n",
        ").to(device)"
      ],
      "execution_count": null,
      "outputs": []
    },
    {
      "cell_type": "code",
      "metadata": {
        "colab": {
          "background_save": true
        },
        "id": "wtv1uteaAcjZ"
      },
      "source": [
        "z = torch.randn(1,latent_size, 1, 1).to(device)"
      ],
      "execution_count": null,
      "outputs": []
    },
    {
      "cell_type": "markdown",
      "metadata": {
        "id": "-0c7SaZsidzx"
      },
      "source": [
        "Дискриминатор -- это обычный бинарный классификатор. В статье он устроен симметрично генератору: Conv2d, BatchNorm, ReLU, Conv2d... Параметры сверток можно поставить в обратную сторону."
      ]
    },
    {
      "cell_type": "code",
      "metadata": {
        "colab": {
          "background_save": true
        },
        "id": "LZdLcZzviZlD"
      },
      "source": [
        "base_size = base_size//4\n",
        "D = nn.Sequential(\n",
        "    nn.Conv2d(num_channels, base_size, 4, 2, 1, bias=False),\n",
        "    nn.LeakyReLU(0.2, inplace=True),\n",
        "\n",
        "    nn.Conv2d(base_size, base_size * 2, 4, 2, 1, bias=False),\n",
        "    nn.BatchNorm2d(base_size * 2),\n",
        "    nn.LeakyReLU(0.2, inplace=True),\n",
        "\n",
        "    nn.Conv2d(base_size * 2, base_size * 4, 4, 2, 1, bias=False),\n",
        "    nn.BatchNorm2d(base_size * 4),\n",
        "    nn.LeakyReLU(0.2, inplace=True),\n",
        "\n",
        "    nn.Conv2d(base_size * 4, base_size * 8, 4, 2, 1, bias=False),\n",
        "    nn.BatchNorm2d(base_size * 8),\n",
        "    nn.LeakyReLU(0.2, inplace=True),\n",
        "\n",
        "    nn.Conv2d(base_size * 8, 1, 4, 1, 0, bias=False),\n",
        "    nn.Sigmoid()\n",
        ").to(device)"
      ],
      "execution_count": null,
      "outputs": []
    },
    {
      "cell_type": "code",
      "metadata": {
        "colab": {
          "background_save": true
        },
        "id": "dVOYWRKjAx5E"
      },
      "source": [
        ""
      ],
      "execution_count": null,
      "outputs": []
    },
    {
      "cell_type": "markdown",
      "metadata": {
        "id": "_cvC_RdKiMmS"
      },
      "source": [
        "В статье акцентируют внимание на необходимость нестандартной инициализации весов."
      ]
    },
    {
      "cell_type": "code",
      "metadata": {
        "colab": {
          "background_save": true
        },
        "id": "JTR8nHzu77kZ",
        "outputId": "13f80cd7-315e-4c98-f60e-2a7d1504a6f6"
      },
      "source": [
        "def weights_init(m):\n",
        "    classname = m.__class__.__name__\n",
        "    if classname.find('Conv') != -1:\n",
        "        nn.init.normal_(m.weight.data, 0.0, 0.02)\n",
        "    elif classname.find('BatchNorm') != -1:\n",
        "        nn.init.normal_(m.weight.data, 1.0, 0.02)\n",
        "        nn.init.constant_(m.bias.data, 0)\n",
        "\n",
        "\n",
        "# apply рекурсивно применяет применяет функцию ко всем своим подмодулям\n",
        "G.apply(weights_init)\n",
        "D.apply(weights_init)"
      ],
      "execution_count": null,
      "outputs": [
        {
          "output_type": "execute_result",
          "data": {
            "text/plain": [
              "Sequential(\n",
              "  (0): Conv2d(3, 8, kernel_size=(4, 4), stride=(2, 2), padding=(1, 1), bias=False)\n",
              "  (1): LeakyReLU(negative_slope=0.2, inplace=True)\n",
              "  (2): Conv2d(8, 16, kernel_size=(4, 4), stride=(2, 2), padding=(1, 1), bias=False)\n",
              "  (3): BatchNorm2d(16, eps=1e-05, momentum=0.1, affine=True, track_running_stats=True)\n",
              "  (4): LeakyReLU(negative_slope=0.2, inplace=True)\n",
              "  (5): Conv2d(16, 32, kernel_size=(4, 4), stride=(2, 2), padding=(1, 1), bias=False)\n",
              "  (6): BatchNorm2d(32, eps=1e-05, momentum=0.1, affine=True, track_running_stats=True)\n",
              "  (7): LeakyReLU(negative_slope=0.2, inplace=True)\n",
              "  (8): Conv2d(32, 64, kernel_size=(4, 4), stride=(2, 2), padding=(1, 1), bias=False)\n",
              "  (9): BatchNorm2d(64, eps=1e-05, momentum=0.1, affine=True, track_running_stats=True)\n",
              "  (10): LeakyReLU(negative_slope=0.2, inplace=True)\n",
              "  (11): Conv2d(64, 1, kernel_size=(4, 4), stride=(1, 1), bias=False)\n",
              "  (12): Sigmoid()\n",
              ")"
            ]
          },
          "metadata": {
            "tags": []
          },
          "execution_count": 0
        }
      ]
    },
    {
      "cell_type": "markdown",
      "metadata": {
        "id": "1NV6gwpojEv4"
      },
      "source": [
        "## Обучение\n",
        "\n",
        "У GANов, помимо сходимости, есть проблема, что их непонятно, как сравнивать между собой, потому что у нас не один лосс, а два. Поэтому полезнее во время обучения смотреть на генерируемые картинки, а не цифры."
      ]
    },
    {
      "cell_type": "code",
      "metadata": {
        "colab": {
          "background_save": true
        },
        "id": "6Cl9e1eIR8P0"
      },
      "source": [
        "# # если мы предварительно сохраняли модели и хотим запустить их, то это вот так\n",
        "# D.load_state_dict(torch.load('/content/drive/MyDrive/D.pt')) # можно и другую директорию, но вот это прямо внутри вашего гугл диска\n",
        "# G.load_state_dict(torch.load('/content/drive/MyDrive/G.pt'))"
      ],
      "execution_count": null,
      "outputs": []
    },
    {
      "cell_type": "code",
      "metadata": {
        "colab": {
          "background_save": true
        },
        "id": "r1mywU3EF6dt"
      },
      "source": [
        ""
      ],
      "execution_count": null,
      "outputs": []
    },
    {
      "cell_type": "code",
      "metadata": {
        "id": "YupLq8GaRRhL"
      },
      "source": [
        "num_epochs = 25\n",
        "learning_rate = 0.0002\n",
        "\n",
        "beta1 = 0.5\n",
        "img_list = []\n",
        "G_losses = []\n",
        "D_losses = []\n",
        "\n",
        "optim_D = torch.optim.SGD(D.parameters(), lr=learning_rate) # ваш любимый оптимизатор параметров дискриминатора\n",
        "optim_G = torch.optim.Adam(G.parameters(), lr=learning_rate,betas=(beta1, 0.999)) # ваш любимый оптимизатор параметров генератора\n",
        "\n",
        "criterion = nn.BCELoss()\n",
        "\n",
        "for epoch in range(num_epochs):\n",
        "    iters = 0\n",
        "\n",
        "    for (data, _) in loader:\n",
        "        # Обучать GANы всегда долго, и мы хотим по максимуму переиспользовать вычисления\n",
        "\n",
        "        # 1. Обучим D: max log(D(x)) + log(1 - D(G(z)))\n",
        "        \n",
        "        D.zero_grad()\n",
        "        \n",
        "        # a) Распакуйте данные на нужный девайс\n",
        "        data = data.to(device)\n",
        "\n",
        "        #    Прогоните через сеть\n",
        "        out = D(data)\n",
        "\n",
        "        #    Сгенерируйте вектор из единичек (ответы для реальных сэмплов)\n",
        "        if iters%100:\n",
        "            target = torch.FloatTensor(out.size()).uniform_(0.7, 1).to(device)\n",
        "        else:\n",
        "            target = torch.FloatTensor(out.size()).uniform_(0, 0.3).to(device)\n",
        "\n",
        "        #    Посчитайте лосс, сделайте .backward()\n",
        "        D_loss = criterion(out, target)\n",
        "        D_loss.backward()\n",
        "\n",
        "        # b) Посэмплите из torch.randn\n",
        "        latent_noise = torch.normal(3, 1, size=((out.size()[0], latent_size, 1, 1))).to(device)\n",
        "\n",
        "        #    Прогоните этот шум через генератор\n",
        "        out = G(latent_noise)\n",
        "\n",
        "        #    detach-ните (нам не нужно считать градиенты G)\n",
        "        out = out.detach()\n",
        "\n",
        "        #    Прогоните через дискриминатор\n",
        "        out_D = D(out)\n",
        "        \n",
        "        #    Сгенерите вектор из нулей (ответы для фейков)\n",
        "        target = torch.FloatTensor(size=(out_D.size())).uniform_(0, 0.3).to(device)\n",
        "\n",
        "        #    Посчитайте лосс, сделайте backward (он сложится, а не перезапишется)\n",
        "        D_loss = criterion(out_D, target)\n",
        "        D_loss.backward(retain_graph=True)\n",
        "\n",
        "        #    Также можно сначала сгенерировать данные, а потом собрать из двух частей батч,\n",
        "        #    В котором первая половина лэйблов будет нулями, а вторая -- единицами\n",
        "        \n",
        "        optim_D.step()\n",
        "        \n",
        "\n",
        "        # 2. Обучим G: max log(D(G(z)))\n",
        "\n",
        "        G.zero_grad()\n",
        "        # Тут проще:\n",
        "        #    Получим вектор неправильных ответов -- вектор единиц (мы ведь хотим, чтобы D считал их неправильными)\n",
        "        target = torch.FloatTensor(out_D.size()).uniform_(0.7, 1).to(device)\n",
        "\n",
        "        #    Прогоним ранее сгенерированные картинки через D\n",
        "        out = D(out)\n",
        "\n",
        "        #    Посчитаем лосc, сделаем .backward()\n",
        "        G_loss = criterion(out, target)\n",
        "        G_loss.backward()\n",
        "        \n",
        "        optim_G.step()\n",
        "\n",
        "        # Раз в сколько-то итераций логгируем лосс\n",
        "        if iters % 10 == 0:\n",
        "            # Выведем информацию о том, как наша сеть справляется\n",
        "            print(f'{epoch}/{num_epochs}, {iters/len(loader)}')\n",
        "            print(f'  G loss: {G_loss}')\n",
        "            print(f'  D loss: {D_loss}')\n",
        "            print()\n",
        "            \n",
        "        D_losses.append(D_loss.item())\n",
        "        G_losses.append(G_loss.item())\n",
        "\n",
        "        if iters % 50 == 0:\n",
        "            # вы на этом батче уже генерировали какие-то картинки: просто добавьте их в список\n",
        "            \n",
        "            # а вот тут сохраняем\n",
        "            torch.save(D.state_dict(), '/content/drive/My Drive/D.pt')\n",
        "            torch.save(G.state_dict(), '/content/drive/My Drive/G.pt')\n",
        "        iters += 1"
      ],
      "execution_count": null,
      "outputs": []
    },
    {
      "cell_type": "code",
      "metadata": {
        "id": "53H3JFfJveS2"
      },
      "source": [
        "import matplotlib.pyplot as plt\n",
        "\n",
        "plt.figure(figsize=(10,5))\n",
        "plt.plot(G_losses, label=\"G\")\n",
        "plt.plot(D_losses, label=\"D\")\n",
        "plt.xlabel(\"Iterations\")\n",
        "plt.ylabel(\"Loss\")\n",
        "plt.legend()\n",
        "plt.show()"
      ],
      "execution_count": null,
      "outputs": []
    },
    {
      "cell_type": "code",
      "metadata": {
        "id": "jP4hziIekgfg"
      },
      "source": [
        "# распечатайте ваши картинки"
      ],
      "execution_count": null,
      "outputs": []
    },
    {
      "cell_type": "markdown",
      "metadata": {
        "id": "6kUdCbvsZgXq"
      },
      "source": [
        "### Что дальше?\n",
        "\n",
        "Довольно старый, но актуальный список трюков: https://github.com/soumith/ganhacks\n",
        "\n",
        "Вообще, теория сходимости GANов очень сильно развилась за последнее время. Если хотите во всём этом разобраться, то возьмите какую-нибудь [достаточно новую статью](https://arxiv.org/pdf/1802.05957.pdf) и рекурсивно почитайте оттуда абстракты из списока литературы."
      ]
    },
    {
      "cell_type": "code",
      "metadata": {
        "id": "F5h-NEFq9k5o"
      },
      "source": [
        "# посмотрите на данные (вы писали нужный код в колоризации)\n",
        "# ...\n",
        "import matplotlib.pyplot as plt\n",
        "def show_img(sample):\n",
        "    img = sample\n",
        "    # img = img / 2 + 0.5  \n",
        "    npimg = img.numpy()\n",
        "    npimg = np.clip(npimg, 0., 1.)\n",
        "    npimg_color = np.transpose(npimg, (1, 2, 0))\n",
        "\n",
        "    f = plt.figure(figsize=(2,3))\n",
        "    f.add_subplot(1,1,1)\n",
        "    plt.imshow(npimg_color)\n",
        "G.eval()\n",
        "z = torch.randn(1,latent_size, 1, 1).to(device)\n",
        "show_img(G(z).cpu().detach()[0])"
      ],
      "execution_count": null,
      "outputs": []
    },
    {
      "cell_type": "code",
      "metadata": {
        "id": "5tdMsy5WHsbX"
      },
      "source": [
        ""
      ],
      "execution_count": null,
      "outputs": []
    }
  ]
}